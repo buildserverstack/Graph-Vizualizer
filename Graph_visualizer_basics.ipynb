{
 "cells": [
  {
   "cell_type": "code",
   "execution_count": 2,
   "id": "273ec48f-e9bc-48fc-a478-b3936bf65a96",
   "metadata": {},
   "outputs": [],
   "source": [
    "from graphviz import Digraph"
   ]
  },
  {
   "cell_type": "code",
   "execution_count": 3,
   "id": "fc87a3c6-e842-4e61-a094-311d5dd5253b",
   "metadata": {},
   "outputs": [],
   "source": [
    "dot = Digraph()"
   ]
  },
  {
   "cell_type": "code",
   "execution_count": 4,
   "id": "0eccdc00-b571-4099-8e13-d661495b7bf2",
   "metadata": {},
   "outputs": [],
   "source": [
    "dot.node('A','start')\n",
    "dot.node('B','middle')\n",
    "dot.node('C','END')"
   ]
  },
  {
   "cell_type": "code",
   "execution_count": 5,
   "id": "0a3c9283-c0b7-494c-ad06-3158c1242034",
   "metadata": {},
   "outputs": [],
   "source": [
    "dot.edge('A','B')\n",
    "dot.edge('B','C')"
   ]
  },
  {
   "cell_type": "code",
   "execution_count": 6,
   "id": "0617fa7a-8102-4d01-90d4-1938ebc6ad31",
   "metadata": {},
   "outputs": [
    {
     "data": {
      "text/plain": [
       "'simple_graph.png'"
      ]
     },
     "execution_count": 6,
     "metadata": {},
     "output_type": "execute_result"
    }
   ],
   "source": [
    "dot.render('simple_graph',format='png',view=True)"
   ]
  },
  {
   "cell_type": "code",
   "execution_count": null,
   "id": "1c97c8b3-41d0-40a2-ac69-35e9d1822134",
   "metadata": {},
   "outputs": [],
   "source": []
  }
 ],
 "metadata": {
  "kernelspec": {
   "display_name": "Python 3 (ipykernel)",
   "language": "python",
   "name": "python3"
  },
  "language_info": {
   "codemirror_mode": {
    "name": "ipython",
    "version": 3
   },
   "file_extension": ".py",
   "mimetype": "text/x-python",
   "name": "python",
   "nbconvert_exporter": "python",
   "pygments_lexer": "ipython3",
   "version": "3.12.7"
  }
 },
 "nbformat": 4,
 "nbformat_minor": 5
}
